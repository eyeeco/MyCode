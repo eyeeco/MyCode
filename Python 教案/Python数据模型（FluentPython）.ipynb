{
 "cells": [
  {
   "cell_type": "markdown",
   "metadata": {},
   "source": [
    "## Python 数模模型\n",
    "本教程来源于《FluentPython》第一章"
   ]
  },
  {
   "cell_type": "markdown",
   "metadata": {},
   "source": [
    "Python最好的品质是一致性，当你带着其他面向对象语言的经验进入Python世界后，会对len(collection)的写法感到不适，当你进一步理解不适的原因和其背后庞大的设计思想，这事Python风格的关键，这种思想完全体现在Python数据模型上"
   ]
  },
  {
   "cell_type": "markdown",
   "metadata": {},
   "source": [
    "### 从一摞Python风格的纸牌开始"
   ]
  },
  {
   "cell_type": "code",
   "execution_count": 5,
   "metadata": {
    "collapsed": true
   },
   "outputs": [],
   "source": [
    "import collections\n",
    "\n",
    "Card = collections.namedtuple('Card',['rank','suit'])\n",
    "\n",
    "class FrenchDeck:\n",
    "    ranks = [str(n) for n in range(2,11)] + list('JQKA')\n",
    "    suits = 'spades diamonds clubs hearts'.split()\n",
    "    \n",
    "    def __init__(self):\n",
    "        self._cards = [Card(rank, suit) for suit in self.suits \n",
    "                                        for rank in self.ranks]\n",
    "        \n",
    "    def __len__(self):\n",
    "        return len(self._cards)\n",
    "\n",
    "    def __getitem__(self, position):\n",
    "        return self._cards[position]\n",
    "    "
   ]
  },
  {
   "cell_type": "markdown",
   "metadata": {},
   "source": [
    "当我们想随机抽取一张卡牌， 可以调用`random.choice`方法"
   ]
  },
  {
   "cell_type": "code",
   "execution_count": 15,
   "metadata": {},
   "outputs": [
    {
     "name": "stdout",
     "output_type": "stream",
     "text": [
      "Card(rank='7', suit='clubs')\n"
     ]
    }
   ],
   "source": [
    "from random import choice\n",
    "deck = FrenchDeck()\n",
    "print(choice(deck))"
   ]
  },
  {
   "cell_type": "markdown",
   "metadata": {},
   "source": [
    "现在你已经可以体会到特殊方法实现Python数据类型的两个好处\n",
    ">* 作为你的类用户，他们不需要记住操作的各式名称\n",
    ">* 可以更加方便的利用Python标准库，不用重新发明轮子\n",
    "\n",
    "更有趣的是，因为你`__getitem__`将[]操作交给了self.cards列表，所以你的类自动支持切片操作！\n",
    "下面是例子"
   ]
  },
  {
   "cell_type": "code",
   "execution_count": 21,
   "metadata": {},
   "outputs": [
    {
     "name": "stdout",
     "output_type": "stream",
     "text": [
      "[Card(rank='2', suit='spades'), Card(rank='3', suit='spades'), Card(rank='4', suit='spades')]\n",
      "[Card(rank='A', suit='spades'), Card(rank='A', suit='diamonds'), Card(rank='A', suit='clubs'), Card(rank='A', suit='hearts')]\n"
     ]
    }
   ],
   "source": [
    "# 抽取最上面的三张牌\n",
    "print(deck[:3])\n",
    "# 从第12张牌开始割13张抽牌 拿到4个A\n",
    "print(deck[12::13])\n",
    "# 另外，由于实现了了__getitem__方法，card方法可迭代\n",
    "for card in deck:\n",
    "    card"
   ]
  },
  {
   "cell_type": "markdown",
   "metadata": {},
   "source": [
    "##  数据结构"
   ]
  },
  {
   "cell_type": "markdown",
   "metadata": {},
   "source": [
    "### 序列类型 "
   ]
  },
  {
   "cell_type": "markdown",
   "metadata": {},
   "source": [
    "创造Python以前，Guido曾为ABC语言贡献代码。Python也从ABC语言继承了用统一的风格去处理序列数据这一点。不管是哪种数据结构，字符串、列表、字节序列、数组、XML元素、数据库查询结果。共用一套丰富的操作：迭代、切片、排序、拼接\n",
    "\n",
    "深入理解Python中不同的序列类型，不但能让我们避免重新发明轮子，它们的API还能帮助我们把自己定义的API设计的跟原生序列一样，或者是跟未来可能出现的序列类型保持兼容\n",
    "\n",
    "Python用C标准库实现了丰富的数据类型\n",
    "> 容器序列\n",
    ">* list 、tuple和collections.deque这些能存放不同类型的数据\n",
    "> 扁平序列\n",
    ">* str、bytes 、bytearray、memoryview、array.array、这类容器只能容纳一种类型\n",
    "\n",
    "容器序列存放的是它们所包含的任意类型的对象引用，而扁平序列里存放的是值而不是引用。换句话说，扁平序列其实是一段连续的内存空间。由此可见扁平序列其实更加紧凑，但是它只能存放诸如字符、字节、数值这种基础类型\n",
    "\n",
    "序列还可以分成可变序列和不可变序列\n",
    "> 可变序列\n",
    ">* lsit、bytearray、array.array、collections.deque、memoryview\n",
    "> 不可变序列\n",
    ">* tuple、str、bytes\n"
   ]
  },
  {
   "cell_type": "markdown",
   "metadata": {},
   "source": [
    "### 列表推导"
   ]
  },
  {
   "cell_type": "markdown",
   "metadata": {},
   "source": [
    "列表推导是构建列表的快捷方式，而生成器表达式则可以用来创建其他任何类型的序列\n",
    "\n",
    "列表推导(<b>list comprehension</b>)\n",
    "下面哪个表达更具可读性？\n",
    "\n",
    "列表推导不会存在变量泄露问题、表达式内部变量和赋值只在局部起作用，表达式上下文同名变量还可以被正常引用，局部变量不会影响到它们"
   ]
  },
  {
   "cell_type": "code",
   "execution_count": 2,
   "metadata": {},
   "outputs": [
    {
     "name": "stdout",
     "output_type": "stream",
     "text": [
      "[36, 37, 37, 94, 38]\n",
      "[36, 37, 37, 94, 38]\n"
     ]
    }
   ],
   "source": [
    "# Exp1 \n",
    "symbols = '$%%^&'\n",
    "codes = []\n",
    "for symbol in symbols:\n",
    "    codes.append(ord(symbol))\n",
    "print(codes)\n",
    "\n",
    "# Exp2\n",
    "symbols = '$%%^&'\n",
    "codes = [ord(symbol) for symbol in symbols]\n",
    "print(codes)"
   ]
  },
  {
   "cell_type": "markdown",
   "metadata": {},
   "source": [
    "列表推导笛卡尔积"
   ]
  },
  {
   "cell_type": "code",
   "execution_count": 3,
   "metadata": {},
   "outputs": [
    {
     "name": "stdout",
     "output_type": "stream",
     "text": [
      "[('black', 'S'), ('black', 'M'), ('black', 'L'), ('white', 'S'), ('white', 'M'), ('white', 'L')]\n"
     ]
    }
   ],
   "source": [
    "colors = ['black', 'white']\n",
    "sizes = ['S','M','L']\n",
    "tshirts = [(color,size) for color in colors for size in sizes]\n",
    "print(tshirts)"
   ]
  },
  {
   "cell_type": "markdown",
   "metadata": {},
   "source": [
    "### 生成器表达式\n",
    "虽然可以使用列表推导初始化元祖、数组、其他类型。有时候生成器是更好的选择，因为其逐个产生元素"
   ]
  },
  {
   "cell_type": "code",
   "execution_count": 6,
   "metadata": {},
   "outputs": [
    {
     "data": {
      "text/plain": [
       "(37, 94, 38, 38, 41)"
      ]
     },
     "execution_count": 6,
     "metadata": {},
     "output_type": "execute_result"
    }
   ],
   "source": [
    "symbols = '%^&&)'\n",
    "# 元祖\n",
    "tuple(ord(symbol) for symbol in symbols)"
   ]
  },
  {
   "cell_type": "markdown",
   "metadata": {},
   "source": [
    "### 元组\n",
    "“不可变列表”并不能完全概括元组的特点，除了用作不可变列表，它还用于没有字段名的记录"
   ]
  },
  {
   "cell_type": "code",
   "execution_count": 17,
   "metadata": {},
   "outputs": [
    {
     "name": "stdout",
     "output_type": "stream",
     "text": [
      "(2, 4)\n"
     ]
    }
   ],
   "source": [
    "coordinate = (33.9425,-118.408056)\n",
    "lati, longi = coordinate # 元组拆包\n",
    "\n",
    "# 可用*把课迭代对象拆成函数参数\n",
    "t = (20,8)\n",
    "print(divmod(*t))\n",
    "\n",
    "# 利用拆包 获取文件名\n",
    "import os\n",
    "_, filename = os.path.split('/home/luciano/.ssh/idrsa.pub')\n",
    "\n",
    "# 使用*获取剩余元素\n",
    "a, b, *rest = range(5)"
   ]
  },
  {
   "cell_type": "markdown",
   "metadata": {},
   "source": [
    "## 字典和集合"
   ]
  },
  {
   "cell_type": "markdown",
   "metadata": {},
   "source": [
    "字典这个数据结构活跃在所有Python程序的背后 标准库所有的映射类型都是利用dict来实现，它们有个共同的限制，只有可散列的数据类型才能用作这些映射里的键（只有键有要求，值不需要散列）\n",
    ">什么是可散列的类型？\n",
    ">如果一个对象是可散列的，那么在这个对象的生命周期中，它的散列值是不变的，而且这个对象需要实现__hash__方法,他还要有__qe__方法，这样才能跟其他键作比较。不可变数据类型都是可散列类型，frozenst也是可散列的；对于元组，只有一个元组包含的元素都是可散列的情况下，它才是散列的。\n",
    "\n",
    "### 字典推导：将以键值对作为元素的对象构建出字典"
   ]
  },
  {
   "cell_type": "code",
   "execution_count": 5,
   "metadata": {},
   "outputs": [
    {
     "data": {
      "text/plain": [
       "{'CHINA': 86, 'INDIA': 91, 'UNITED STATES': 1}"
      ]
     },
     "execution_count": 5,
     "metadata": {},
     "output_type": "execute_result"
    }
   ],
   "source": [
    "DIAL_CODES = [(86,'China'),(91,'India'),(1,'United States')]\n",
    "country_code = {country : code for code,country in DIAL_CODES}\n",
    "COUNTRY_CODE = {country.upper() : code for code,country in DIAL_CODES}\n",
    "COUNTRY_CODE"
   ]
  },
  {
   "cell_type": "markdown",
   "metadata": {},
   "source": [
    "### 处理查找不到的键"
   ]
  },
  {
   "cell_type": "code",
   "execution_count": 15,
   "metadata": {},
   "outputs": [
    {
     "name": "stdout",
     "output_type": "stream",
     "text": [
      "\"\"\"Entry point for launching an IPython kernel.\n",
      "\n",
      "\n",
      "\n",
      "This is separate from the ipykernel package so we can avoid doing imports until\n",
      "\n",
      "after removing the cwd from sys.path.\n",
      "\n",
      "\"\"\"\n",
      "\n",
      "\n",
      "\n",
      "import sys\n",
      "\n",
      "\n",
      "\n",
      "if __name__ == '__main__':\n",
      "\n",
      "    # Remove the CWD from sys.path while we load stuff.\n",
      "\n",
      "    # This is added back by InteractiveShellApp.init_path()\n",
      "\n",
      "    if sys.path[0] == '':\n",
      "\n",
      "        del sys.path[0]\n",
      "\n",
      "\n",
      "\n",
      "    from ipykernel import kernelapp as app\n",
      "\n",
      "    app.launch_new_instance()\n",
      "\n"
     ]
    }
   ],
   "source": [
    "import sys\n",
    "import re\n",
    "\n",
    "# 匹配字母、数字、下划线\n",
    "WORD_RE = re.compile(r'\\w+')\n",
    "\n",
    "index = {}\n",
    "with open(sys.argv[0],encoding='utf-8') as fp:\n",
    "    for line_no, line in enumerate(fp):\n",
    "        print(line)"
   ]
  },
  {
   "cell_type": "code",
   "execution_count": 10,
   "metadata": {},
   "outputs": [
    {
     "name": "stdout",
     "output_type": "stream",
     "text": [
      "-f\n"
     ]
    }
   ],
   "source": [
    "import sys\n",
    "with open(sys.argv[1],encoding='utf-8') as fp:\n",
    "    "
   ]
  }
 ],
 "metadata": {
  "kernelspec": {
   "display_name": "Python 3",
   "language": "python",
   "name": "python3"
  },
  "language_info": {
   "codemirror_mode": {
    "name": "ipython",
    "version": 3
   },
   "file_extension": ".py",
   "mimetype": "text/x-python",
   "name": "python",
   "nbconvert_exporter": "python",
   "pygments_lexer": "ipython3",
   "version": "3.6.3"
  }
 },
 "nbformat": 4,
 "nbformat_minor": 2
}
