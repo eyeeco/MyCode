{
 "cells": [
  {
   "cell_type": "markdown",
   "metadata": {},
   "source": [
    "## Python基础教程（测试、调试、异常、面向对象）课件\n",
    "本教程内容主要来源于《Python编程导论》 6-8章 \n",
    "供2018年小学期 Python数据科学 课程使用 \n",
    "PowerBy 刘相 "
   ]
  },
  {
   "cell_type": "markdown",
   "metadata": {},
   "source": [
    "### 调试"
   ]
  },
  {
   "cell_type": "markdown",
   "metadata": {},
   "source": [
    ">* 调试是一种需要学习的技能，好消息是学会调试并不难\n",
    ">* 人们至少花费了40年建立被称为‘调试器’的工具，所有流行的Python IDE中都带有调试器工具，这些调试工具帮助人们找到程序中的错误,但事实上帮助并不大。更重要的是接近问题，经验丰富的程序员可能根本不用调试工具，也许他们认为最重要的调试工具是 `print()`\n",
    "\n",
    "> 调试过程可以看做是一个搜索过程，每次试验尽力缩减搜索空间。一个有效方法是，设计一个实验。该实验大致分为以下几步:\n",
    ">1. 调查测试结果，弄清楚什么样的数据通过测试，什么样的数据未通过测试\n",
    ">2. 建立一个符合现有数据的假设，假设可以很具体（403行x\\<y改成x=y即可）也可以很宽泛（50-100行的循环出了问题）\n",
    ">3. 设计一个推翻上述假设的实验，你应该能够明确解释出实验每种可能的结果\n",
    ">4. 将你的实验记录下来\n"
   ]
  },
  {
   "cell_type": "markdown",
   "metadata": {},
   "source": [
    ">* 排除常见错误（这个需要经验） coding everyday\n",
    ">* 不要问自己为什么没有像你想的那样做，而是考虑程序为什么像现在这样做\n",
    ">* 错误可能不在你认为会出错的地方\n",
    ">* 试着向他人解释你的问题\n",
    ">* 不要盲目相信书上的东西（不要相信文档）大家应该首先学会读文档：）\n",
    ">* 暂停调试，先写文档\n",
    ">* 出去散散步，回头接着做"
   ]
  },
  {
   "cell_type": "markdown",
   "metadata": {},
   "source": [
    "### 调试案例\n",
    "以下程序有若干出Bug，请调试后运行完成“判断用户输入的若干个整数是否为回文数”任务"
   ]
  },
  {
   "cell_type": "code",
   "execution_count": 70,
   "metadata": {
    "collapsed": true
   },
   "outputs": [],
   "source": [
    "# 调试案例\n",
    "# 下面程序有若干处bug\n",
    "def isPal(x):\n",
    "    \"\"\"\n",
    "    假设x是列表\n",
    "    如果列表是回文，则返回True，否则返回False\n",
    "    \"\"\"\n",
    "    temp = x\n",
    "    temp.reverse\n",
    "    if temp == x:\n",
    "        return True\n",
    "    else:\n",
    "        return False\n",
    "\n",
    "def silly(n):\n",
    "    \"\"\"\n",
    "    假设n是正整数\n",
    "    接收用户的n个输入\n",
    "    如果所有的输入组成一个回文列表，则返回‘Yes’\n",
    "        否则返回‘No’\n",
    "    \"\"\"\n",
    "    for i in range(n):\n",
    "        result = []\n",
    "        elem = input('Enter element: ')\n",
    "        result.append(elem)\n",
    "    if(isPal(result)):\n",
    "        return True\n",
    "    else:\n",
    "        return False"
   ]
  },
  {
   "cell_type": "markdown",
   "metadata": {},
   "source": [
    "#### Python的可变数据类型与不可变数据类型\n",
    ">* python中的不可变数据类型，不允许变量的值发生变化，如果改变了变量的值，相当于是新建了一个对象，而对于相同的值的对象，在内存中则只有一个对象，内部会有一个引用计数来记录有多少个变量引用这个对象；可变数据类型，允许变量的值发生变化，即如果对变量进行append、+=等这种操作后，只是改变了变量的值，而不会新建一个对象，变量引用的对象的地址也不会变化.\n",
    "\n",
    "> 可变数据类型(mutable) \n",
    ">* Dictionary（字典）\n",
    ">* List（列表）\n",
    "\n",
    ">不可变数据类型(unmutable)\n",
    ">* Number（数字）\n",
    ">* String（字符串）\n",
    ">* Tuple（元组）\n",
    ">* Bool(布尔值)"
   ]
  },
  {
   "cell_type": "code",
   "execution_count": 9,
   "metadata": {},
   "outputs": [
    {
     "name": "stdout",
     "output_type": "stream",
     "text": [
      "a的地址是1925472864\n",
      "b的地址是1925472864\n",
      "**********友爱的分割线************\n",
      "a的值是15\n",
      "b的值是20\n",
      "a的地址是1925472864\n",
      "b的地址是1925473024\n",
      "**********友爱的分割线************\n",
      "a的地址是1876968903752\n",
      "b的地址是1876968903752\n",
      "c的地址是1876968904840\n",
      "**********友爱的分割线************\n",
      "a的值是[4, 2, 3]\n",
      "b的值是[4, 2, 3]\n",
      "c的值是[5, 2, 3]\n",
      "a的地址是1876968903752\n",
      "b的地址是1876968903752\n",
      "c的地址是1876968904840\n"
     ]
    }
   ],
   "source": [
    "# 不可变数据类型\n",
    "a = 15\n",
    "b = 15\n",
    "print(\"a的地址是\"+ str(id(a)))\n",
    "print(\"b的地址是\"+ str(id(b)))\n",
    "print(\"**********友爱的分割线************\")\n",
    "\n",
    "b = 20\n",
    "print(\"a的值是\"+ str(a))\n",
    "print(\"b的值是\"+ str(b))\n",
    "print(\"a的地址是\"+ str(id(a)))\n",
    "print(\"b的地址是\"+ str(id(b)))\n",
    "print(\"**********友爱的分割线************\")\n",
    "\n",
    "# 可变数据类型\n",
    "a = [1,2,3]\n",
    "b = a\n",
    "c = [1,2,3]\n",
    "\n",
    "print(\"a的地址是\"+ str(id(a)))\n",
    "print(\"b的地址是\"+ str(id(b)))\n",
    "print(\"c的地址是\"+ str(id(c)))\n",
    "print(\"**********友爱的分割线************\")\n",
    "\n",
    "b[0] = 4\n",
    "c[0] = 5\n",
    "print(\"a的值是\"+ str(a))\n",
    "print(\"b的值是\"+ str(b))\n",
    "print(\"c的值是\"+ str(c))\n",
    "print(\"a的地址是\"+ str(id(a)))\n",
    "print(\"b的地址是\"+ str(id(b)))\n",
    "print(\"c的地址是\"+ str(id(c)))"
   ]
  },
  {
   "cell_type": "markdown",
   "metadata": {},
   "source": [
    "### 异常与断言"
   ]
  },
  {
   "cell_type": "markdown",
   "metadata": {},
   "source": [
    "“异常”通常被定义为“不符合规范的东西”但是在Python中，异常十分常见，简直到处都是。实际上，Python库中所有的模块都使用了异常\n",
    ">* 我们经常将异常当做致命错误处理，异常发生时程序会终止，我们回到代码试图搞清楚为什么出错，程序因为一个异常被抛出而终止时，我们称程序抛出了一个未处理异常\n",
    ">* 很多时候，异常是程序员应该预料到的事情，比如程序试图打开一个不存在的文件。\n",
    "\n",
    "下面是一个典型异常的例子"
   ]
  },
  {
   "cell_type": "code",
   "execution_count": 82,
   "metadata": {},
   "outputs": [
    {
     "name": "stdout",
     "output_type": "stream",
     "text": [
      "Enter SuccessNum: 1\n",
      "Enter totalNum: 1\n",
      "The AC ratio is 1.0\n",
      "Now here\n"
     ]
    }
   ],
   "source": [
    "SuccessNum = input('Enter SuccessNum: ')\n",
    "totalNum = input('Enter totalNum: ')\n",
    "ac = int(SuccessNum)/int(totalNum)\n",
    "print('The AC ratio is',ac)\n",
    "print('Now here')"
   ]
  },
  {
   "cell_type": "markdown",
   "metadata": {},
   "source": [
    "该段程序在大多数情况下是运行良好的，但是如果用户输入中出现了0，（或者干脆直接跳过）程序就会崩溃，这显然不是我们乐意看到的\n",
    "我们可以以下方式改写这段程序\n",
    "\n",
    ">try语句按照如下方式工作；\n",
    ">* 首先，执行try子句（在关键字try和关键字except之间的语句）\n",
    ">* 如果没有异常发生，忽略except子句，try子句执行后结束。\n",
    ">* 如果在执行try子句的过程中发生了异常，那么try子句余下的部分将被忽略。如果异常的类型和 except 之后的名称相符，那么对应的except子句将被执行。最后执行 try 语句之后的代码。\n",
    ">* 如果一个异常没有与任何的except匹配，那么这个异常将会传递给上层的try中。\n",
    "一个 try 语句可能包含多个except子句，分别来处理不同的特定的异常。最多只有一个分支会被执行。处理程序将只针对对应的try子句中的异常进行处理，而不是其他的 try 的处理程序中的异常。"
   ]
  },
  {
   "cell_type": "code",
   "execution_count": 86,
   "metadata": {},
   "outputs": [
    {
     "name": "stdout",
     "output_type": "stream",
     "text": [
      "Enter SuccessNum: 1\n",
      "Enter totalNum: 111111111111111111111111111111111111111111111111111111111111111111111111111111111111111111111111111\n",
      "The AC ratio is 9e-99\n",
      "Now here\n"
     ]
    }
   ],
   "source": [
    "try:\n",
    "    SuccessNum = input('Enter SuccessNum: ')\n",
    "    totalNum = input('Enter totalNum: ')\n",
    "    ac = int(SuccessNum)/int(totalNum)\n",
    "    print('The AC ratio is',ac)\n",
    "except ZeroDivisionError:\n",
    "    print('Failure ! totalNum is 0')\n",
    "except ValueError:\n",
    "    print('Error ! No input')\n",
    "print('Now here')"
   ]
  },
  {
   "cell_type": "markdown",
   "metadata": {},
   "source": [
    "异常看上去不太友好（毕竟如果不处理程序会崩溃），但总好于其他方式。使用异常时，程序员需要编写一些代码来处理特定异常。如果忘记处理某个异常\n",
    "那么这异常抛出时，程序便立刻停止。当然这也是好事，线性错误总好于隐士错误，我们来讨论BUG的问题。\n",
    ">* 显性->隐性 显性错误有明显表现，如程序崩溃或运行时间长；隐性错误没有正常表现，程序正常结束，不会出任何问题--错了给出一个错误答案。\n",
    ">* 持续->间歇 持续性错误在每次相同的运行输入时都会发生，间歇性错误仅在某些时候出现，即使是相同的输入和环境\n",
    "\n",
    "显性错误和持续性错误是最好的，开发者不会对这种程序抱任何幻想，没有人愚蠢到使用这种程序。\n",
    "> **优秀的程序员编写程序时，会尽量使程序时显性和持续性的，这种编程方式称为防御性编程**\n",
    "\n",
    "以隐性方式出错的程序特别危险，因为他们表面没有任何问题。人们使用它并对他产生依赖。逐渐的我们的人类社会将对软件产生依赖，这些软件来执行\n",
    "超过人类能力的计算，我们甚至不能判断这些软件的计算是否正确。因此我们根本意识不到这个情况。这样的程序可能已经造成了严重危害。"
   ]
  },
  {
   "cell_type": "markdown",
   "metadata": {},
   "source": [
    "### 断言\n",
    "Python 语言为程序员提供了一种确保程序运行状态符合预期的简单方法。"
   ]
  },
  {
   "cell_type": "code",
   "execution_count": 92,
   "metadata": {
    "collapsed": true
   },
   "outputs": [],
   "source": [
    "def cal(num):\n",
    "    assert num>=0\n",
    "    return num**0.5"
   ]
  },
  {
   "cell_type": "markdown",
   "metadata": {},
   "source": [
    "## 类与面向对象编程"
   ]
  },
  {
   "cell_type": "markdown",
   "metadata": {},
   "source": [
    "面向对象编程——Object Oriented Programming，简称OOP，是一种程序设计思想。OOP把对象作为程序的基本单元，一个对象包含了数据和操作数据的函数。\n",
    "\n",
    "面向过程的程序设计把计算机程序视为一系列的命令集合，即一组函数的顺序执行。为了简化程序设计，面向过程把函数继续切分为子函数，即把大块函数通过切割成小块函数来降低系统的复杂度。\n",
    "\n",
    "而面向对象的程序设计把计算机程序视为一组对象的集合，而每个对象都可以接收其他对象发过来的消息，并处理这些消息，计算机程序的执行就是一系列消息在各个对象之间传递。\n",
    "\n",
    "在Python中，所有数据类型都可以视为对象，当然也可以自定义对象。自定义的对象数据类型就是面向对象中的类（Class）的概念。"
   ]
  },
  {
   "cell_type": "markdown",
   "metadata": {},
   "source": [
    "面向对象思想的优点\n",
    ">1. 可重用性\n",
    "   编写可重用模块，比如类\n",
    ">2. 可扩展性\n",
    "   要求应用软件能够很方便、很容易的进行扩充和修   改\n",
    ">3. 可管理性\n",
    "   采用封装了数据和操作的类作为构建系统的部件，使项目组织更加方便合理"
   ]
  },
  {
   "cell_type": "markdown",
   "metadata": {},
   "source": [
    "### 抽象数据类型与类\n",
    "抽象数据类型概念十分简单，抽象数据类型是由一个由对象及对象上操作组成的集合，对象和操作被捆绑成一个整体，可以从程序的一部分传递到另一部分。这个过程中不仅可以使用对象的数据属性，还可以使用对象上的操作。\n",
    ">类的基本思想是数据**抽象**和**封装**，数据抽象是一种依赖于接口和实现的分离编程技术。类的接口包含用户所能执行的操作，类的实现则包括类的数据成员、负责接口实现的函数以及定义类的各种私有函数。封装实现了类接口和实现的分离，封装后的类隐藏了实现细节，类用户只能访问接口而无法访问实现部分-------------《c++ Primer》\n",
    "\n",
    "### 继承\n",
    "在OOP程序设计中，当我们定义一个class的时候，可以从某个现有的class继承，新的class称为子类（Subclass），而被继承的class称为基类、父类或超类（Base class、Super class）"
   ]
  },
  {
   "cell_type": "markdown",
   "metadata": {},
   "source": [
    "#### Exp1\n",
    "下面是一个类的实例，它是一个由整数构成的集合，包含了一个构造方法和若干个成员方法\n",
    "\n",
    "其包含了数据的插入、查找、删除、和打印功能"
   ]
  },
  {
   "cell_type": "code",
   "execution_count": 126,
   "metadata": {
    "collapsed": true
   },
   "outputs": [],
   "source": [
    "class IntSet:\n",
    "    \"\"\"实现一个整数集合\"\"\"\n",
    "    \n",
    "    def __init__(self):\n",
    "        \"\"\"创建一个空的整数集合\"\"\"\n",
    "        self.__vals = []\n",
    "    \n",
    "    def insert(self, e): \n",
    "        if e not in self.__vals:\n",
    "            self.__vals.append(e)\n",
    "    \n",
    "    def member(self, e):\n",
    "        return e in self.__vals\n",
    "    \n",
    "    def remove(self, e):\n",
    "        try:\n",
    "            self.__vals.remove(e)\n",
    "        except:\n",
    "            raise ValueError(str(e) + 'not found')\n",
    "    \n",
    "    def getMembers(self):\n",
    "        return self.__vals[:]\n",
    "    \n",
    "    def __str__(self):\n",
    "        self.__vals.sort()\n",
    "        result = ''\n",
    "        for e in self.__vals:\n",
    "            result = result + str(e) + ','\n",
    "        return '{'+ result[:-1] + '}'\n"
   ]
  },
  {
   "cell_type": "code",
   "execution_count": 129,
   "metadata": {},
   "outputs": [
    {
     "name": "stdout",
     "output_type": "stream",
     "text": [
      "True\n",
      "{1,2,9,10}\n",
      "[1, 2, 9, 10]\n"
     ]
    }
   ],
   "source": [
    "# 实例化类\n",
    "s = IntSet()\n",
    "# 插入操作\n",
    "s.insert(10)\n",
    "s.insert(2)\n",
    "s.insert(1)\n",
    "s.insert(8)\n",
    "s.insert(9)\n",
    "# 删除操作\n",
    "s.remove(8)\n",
    "# 查询操作\n",
    "print(s.member(2))\n",
    "# 打印操作（str方法和成员方法）\n",
    "print(s)\n",
    "print(s.getMembers())"
   ]
  },
  {
   "cell_type": "markdown",
   "metadata": {},
   "source": [
    "#### Exp2\n",
    "下面是一个类抽象类的实例,该类提供了人构造方法、查找姓名、查找性、设置生日、查询年龄等方法"
   ]
  },
  {
   "cell_type": "code",
   "execution_count": 130,
   "metadata": {
    "collapsed": true
   },
   "outputs": [],
   "source": [
    "import  datetime\n",
    "\n",
    "class Person:\n",
    "    \n",
    "    def __init__(self, name):\n",
    "        self.name = name\n",
    "        try:\n",
    "            lastBlank = name.rindex(' ')\n",
    "            self.lastName = name[lastBlank+1:]\n",
    "        except:\n",
    "            self.lastName = name\n",
    "        self.birthday = None\n",
    "    \n",
    "    def getName(self):\n",
    "        return self.name\n",
    "    \n",
    "    def getLastName(self):\n",
    "        return self.lastName\n",
    "    \n",
    "    def setBirthday(self, birthdate):\n",
    "        self.birthday = birthdate\n",
    "        \n",
    "    def getAge(self):\n",
    "        if self.birthday == None:\n",
    "            raise ValueError('not set birthday')\n",
    "        return datetime.date.today().year-self.birthday.year\n",
    "    \n",
    "    def __lt__(self, other):\n",
    "        if self.lastName == other.lastName:\n",
    "            return self.name < other.name\n",
    "        return self.lastName < other.lastName\n",
    "    \n",
    "    def __str__(self):\n",
    "        return self.name"
   ]
  },
  {
   "cell_type": "code",
   "execution_count": 139,
   "metadata": {},
   "outputs": [
    {
     "name": "stdout",
     "output_type": "stream",
     "text": [
      "======before===== \n",
      "Micheal Zuttag\n",
      "Tom Edison\n",
      "Madonna\n",
      "======after===== \n",
      "Tom Edison\n",
      "Madonna\n",
      "Micheal Zuttag\n",
      "Micheal Zuttag's age is 32\n"
     ]
    }
   ],
   "source": [
    "# 实例化三个人\n",
    "p1 = Person('Micheal Zuttag')\n",
    "p2 = Person('Tom Edison')\n",
    "p3 = Person('Madonna')\n",
    "pList = [p1, p2, p3]\n",
    "# 排序例子\n",
    "print(\"======before===== \")\n",
    "for p in pList:\n",
    "    print(p)\n",
    "pList.sort()\n",
    "print(\"======after===== \")\n",
    "for p in pList:\n",
    "    print(p)\n",
    "# 生日操作及年龄查询\n",
    "p1.setBirthday(datetime.date(1986,2,1))\n",
    "print(str(p1)+ '\\'s age is '+ str(p1.getAge()))"
   ]
  },
  {
   "cell_type": "markdown",
   "metadata": {},
   "source": [
    "#### Exp3\n",
    "本例子为一个综合案例"
   ]
  },
  {
   "cell_type": "code",
   "execution_count": 143,
   "metadata": {
    "collapsed": true
   },
   "outputs": [],
   "source": [
    "class Student(Person):\n",
    "    \n",
    "    nextIdNum = 0\n",
    "    \n",
    "    def __init__(self, name):\n",
    "        Person.__init__(self, name)\n",
    "        self.idNum = Student.nextIdNum\n",
    "        Student.nextIdNum += 1\n",
    "\n",
    "    def getIdNum(self):\n",
    "        return self.idNum\n",
    "\n",
    "    def __lt__(self,other):\n",
    "        return self.idNum < other.idNum\n",
    "\n",
    "class Grades:\n",
    "    \n",
    "    def __init__(self):\n",
    "        self.students = []\n",
    "        self.grades = {}\n",
    "        self.isSorted = True\n",
    "        \n",
    "    def addStudent(self, student):\n",
    "        if student in self.students:\n",
    "            raise ValueError('Duplicate student')\n",
    "        self.students.append(student)\n",
    "        self.grades[student.getIdNum()] = []\n",
    "        self.isSorted = False\n",
    "    \n",
    "    def addGrade(self, student, grade):\n",
    "        try:\n",
    "            self.grades[student.getIdNum()].append(grade)\n",
    "        except:\n",
    "            raise ValueError('Student not in mapping')\n",
    "            \n",
    "    def getGrades(self,student):\n",
    "        try:\n",
    "            return self.grades[student.getIdNum()][:]\n",
    "        except:\n",
    "            raise ValueError('Student not in mapping')\n",
    "    \n",
    "    def getStudents(self):\n",
    "        if not self.isSorted:\n",
    "            self.students.sort()\n",
    "            self.isSorted = True\n",
    "        return self.students[:]\n",
    "    \n",
    "    def gradeReport(self):\n",
    "        report = ''\n",
    "        for s in self.getStudents():\n",
    "            tot = 0.0\n",
    "            numGrades = 0\n",
    "            for g in self.getGrades(s):\n",
    "                tot += g\n",
    "                numGrades +=1\n",
    "            try:\n",
    "                average = tot/numGrades\n",
    "                report = report + '\\n' + str(s) + '\\'s mean grade is '+ str(average)\n",
    "            except ZeroDivisionError:\n",
    "                report = report + '\\n' + str(s) + 'has no grade '\n",
    "        return report"
   ]
  },
  {
   "cell_type": "code",
   "execution_count": 146,
   "metadata": {},
   "outputs": [
    {
     "name": "stdout",
     "output_type": "stream",
     "text": [
      "\n",
      "Jane Doe's mean grade is 50.0\n",
      "John Doe's mean grade is 87.5\n",
      "David Henry's mean grade is 75.0\n",
      "Billy Buckner's mean grade is 75.0\n",
      "Bucky F. Denthas no grade \n"
     ]
    }
   ],
   "source": [
    "# 初始化学号\n",
    "student.nextIdNum = 0\n",
    "\n",
    "# 实例化五个学生\n",
    "stu1 = Student('Jane Doe')\n",
    "stu2 = Student('John Doe')\n",
    "stu3 = Student('David Henry')\n",
    "stu4 = Student('Billy Buckner')\n",
    "stu5 = Student('Bucky F. Dent')\n",
    "\n",
    "# 创建学生档案\n",
    "math = Grades()\n",
    "math.addStudent(stu1)\n",
    "math.addStudent(stu2)\n",
    "math.addStudent(stu3)\n",
    "math.addStudent(stu4)\n",
    "\n",
    "# 给学生添加分数\n",
    "for s in math.getStudents():\n",
    "    math.addGrade(s,75)\n",
    "math.addGrade(stu1,25)\n",
    "math.addGrade(stu2,100)\n",
    "math.addStudent(stu5)\n",
    "\n",
    "print(math.gradeReport())"
   ]
  },
  {
   "cell_type": "markdown",
   "metadata": {},
   "source": [
    "## 测试"
   ]
  },
  {
   "cell_type": "markdown",
   "metadata": {},
   "source": [
    ">测试指通过运行程序以确定它是否按预期工作。我们通常需要将代码和规范结合起来，进行各种路径探索，并在基础上探究一种启发式方法。基于代码探索的路径启发式方法称为**白盒测试**，基于规范路径的启发式方法称为**黑盒测试**"
   ]
  },
  {
   "cell_type": "markdown",
   "metadata": {},
   "source": [
    "测试一般分为两个阶段。第一个阶段称为**单元测试**。这个阶段测试者构建并执行测试，来确定代码每个独立单元是否正常工作。第二个阶段称为集成测试，用来确定整个程序是否能按预期进行。实际工作中需要不断重复这两个阶段"
   ]
  },
  {
   "cell_type": "markdown",
   "metadata": {},
   "source": [
    "Python中提供了单元测试函数```unittest```，下面是一个单元测试的案例"
   ]
  },
  {
   "cell_type": "code",
   "execution_count": 31,
   "metadata": {},
   "outputs": [
    {
     "name": "stderr",
     "output_type": "stream",
     "text": [
      "test__init__ (__main__.TestIntSet) ... ok\n",
      "test__str__ (__main__.TestIntSet) ... ok\n",
      "test_getMembers (__main__.TestIntSet) ... ok\n",
      "test_insert (__main__.TestIntSet) ... ok\n",
      "test_member (__main__.TestIntSet) ... ok\n",
      "test_remove (__main__.TestIntSet) ... "
     ]
    },
    {
     "name": "stdout",
     "output_type": "stream",
     "text": [
      "before Testing...\n",
      "before Testing...\n",
      "before Testing...\n",
      "before Testing...\n",
      "before Testing...\n",
      "before Testing...\n"
     ]
    },
    {
     "name": "stderr",
     "output_type": "stream",
     "text": [
      "ok\n",
      "\n",
      "----------------------------------------------------------------------\n",
      "Ran 6 tests in 0.036s\n",
      "\n",
      "OK\n"
     ]
    }
   ],
   "source": [
    "import unittest\n",
    "\n",
    "class TestIntSet(unittest.TestCase):\n",
    "    def setUp(self):\n",
    "        print('before Testing...')\n",
    "\n",
    "    def test__init__(self):\n",
    "        s = IntSet()\n",
    "        self.assertTrue(isinstance(s.getMembers(), list))\n",
    "    \n",
    "    def test_insert(self):\n",
    "        s = IntSet()\n",
    "        s.insert(1)\n",
    "        self.assertEqual(s.getMembers(), [1])\n",
    "        s.insert(2)\n",
    "        self.assertEqual(s.getMembers(), [1,2])\n",
    "    \n",
    "    def test_member(self):\n",
    "        s = IntSet()\n",
    "        s.insert(1)\n",
    "        self.assertTrue(s.member(1))\n",
    "        self.assertFalse(s.member(2))\n",
    "    \n",
    "    def test_remove(self):\n",
    "        s = IntSet()\n",
    "        s.insert(1)\n",
    "        self.assertTrue(s.member(1))\n",
    "        s.remove(1)\n",
    "        self.assertFalse(s.member(1))\n",
    "        \n",
    "    def test_getMembers(self):\n",
    "        s = IntSet()\n",
    "        s.insert(1)\n",
    "        s.insert(2)\n",
    "        self.assertEqual(s.getMembers(), [1,2])\n",
    "\n",
    "    def test__str__(self):\n",
    "        s = IntSet()\n",
    "        s.insert(5)\n",
    "        s.insert(1)\n",
    "        s.insert(2)\n",
    "        self.assertEqual(s.__str__(), '{1,2,5}')\n",
    "    \n",
    "    def tear_Down(self):\n",
    "        print('after Testing...')\n",
    "\n",
    "if __name__ == '__main__':\n",
    "    unittest.main(argv=['ignored', '-v'], exit=False)\n"
   ]
  }
 ],
 "metadata": {
  "kernelspec": {
   "display_name": "Python 3",
   "language": "python",
   "name": "python3"
  },
  "language_info": {
   "codemirror_mode": {
    "name": "ipython",
    "version": 3
   },
   "file_extension": ".py",
   "mimetype": "text/x-python",
   "name": "python",
   "nbconvert_exporter": "python",
   "pygments_lexer": "ipython3",
   "version": "3.6.3"
  }
 },
 "nbformat": 4,
 "nbformat_minor": 2
}
