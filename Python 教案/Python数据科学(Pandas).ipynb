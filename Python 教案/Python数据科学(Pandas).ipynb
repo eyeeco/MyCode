{
 "cells": [
  {
   "cell_type": "markdown",
   "metadata": {},
   "source": [
    "## Pandas \n",
    "Pandas 是在numpy基础上 建立的新程序库，提供了一种更高效的DataFrame数据结构，其本质是一种带行列标签、支持相同数据类型和缺失值的多维数组"
   ]
  },
  {
   "cell_type": "code",
   "execution_count": 3,
   "metadata": {},
   "outputs": [],
   "source": [
    "# 安装好后可以检查一下版本号\n",
    "import pandas\n",
    "pandas.__version__\n",
    "\n",
    "import numpy as np\n",
    "import pandas as pd"
   ]
  },
  {
   "cell_type": "markdown",
   "metadata": {},
   "source": [
    "如果从底层视角观察Pandas对象，可以把他们看成是增强版的NumPy结构化数组，行列都不是简单的整数索引还可以带标签。首先介绍Pandas三个基本的数据结构：__Serise、DataFrame__和__Index__\n",
    "\n",
    "### Series对象\n",
    "pandas的Serise对象是一个带索引数据的一维数组\n",
    "> Numpy隐式定义整数索引获取数值，Pandas的Serise对象显式定义索引与数值关联"
   ]
  },
  {
   "cell_type": "code",
   "execution_count": 16,
   "metadata": {},
   "outputs": [
    {
     "name": "stdout",
     "output_type": "stream",
     "text": [
      "0    2\n",
      "1    5\n",
      "2    9\n",
      "dtype: int64\n",
      "100    5\n",
      "200    5\n",
      "300    5\n",
      "dtype: int64\n",
      "2    a\n",
      "3    b\n",
      "dtype: object\n"
     ]
    }
   ],
   "source": [
    "data = pd.Series([0.25,0.5,0.75,1.0],index=['a','b','c','d'])\n",
    "\n",
    "# Serise 是通用的Numpy数组\n",
    "# Series 是特殊的字典\n",
    "population_dict = {'California':38332521,'Texas':26448193}\n",
    "population = pd.Series(population_dict)\n",
    "\n",
    "# 创建Series 对象\n",
    "# pd.Series(data,index=index)\n",
    "# 如果index为空，自动生成一个默认整数序列\n",
    "print(pd.Series([2,5,9]))\n",
    "# data也可以是一个标量，填充到每一个索引\n",
    "print(pd.Series(5,[100,200,300]))\n",
    "# data还可以是一个字典，字典键排序\n",
    "print(pd.Series({2:'a',3:'b'}))"
   ]
  },
  {
   "cell_type": "markdown",
   "metadata": {},
   "source": [
    "## DataFrame对象\n",
    "\n",
    "如果将Series比作带灵活索引的一维数组，DataFrame可以看做一种既有灵活行索引，也有灵活列名的二维数组"
   ]
  },
  {
   "cell_type": "code",
   "execution_count": 42,
   "metadata": {},
   "outputs": [
    {
     "name": "stdout",
     "output_type": "stream",
     "text": [
      "              area  population\n",
      "California  423967    38332521\n",
      "Texas       695662    26448193\n",
      "Index(['California', 'Texas'], dtype='object')\n",
      "Index(['area', 'population'], dtype='object')\n"
     ]
    },
    {
     "data": {
      "text/html": [
       "<div>\n",
       "<style>\n",
       "    .dataframe thead tr:only-child th {\n",
       "        text-align: right;\n",
       "    }\n",
       "\n",
       "    .dataframe thead th {\n",
       "        text-align: left;\n",
       "    }\n",
       "\n",
       "    .dataframe tbody tr th {\n",
       "        vertical-align: top;\n",
       "    }\n",
       "</style>\n",
       "<table border=\"1\" class=\"dataframe\">\n",
       "  <thead>\n",
       "    <tr style=\"text-align: right;\">\n",
       "      <th></th>\n",
       "      <th>foo</th>\n",
       "      <th>bar</th>\n",
       "    </tr>\n",
       "  </thead>\n",
       "  <tbody>\n",
       "    <tr>\n",
       "      <th>a</th>\n",
       "      <td>0.547937</td>\n",
       "      <td>0.822852</td>\n",
       "    </tr>\n",
       "    <tr>\n",
       "      <th>b</th>\n",
       "      <td>0.503197</td>\n",
       "      <td>0.368418</td>\n",
       "    </tr>\n",
       "    <tr>\n",
       "      <th>c</th>\n",
       "      <td>0.402269</td>\n",
       "      <td>0.542773</td>\n",
       "    </tr>\n",
       "  </tbody>\n",
       "</table>\n",
       "</div>"
      ],
      "text/plain": [
       "        foo       bar\n",
       "a  0.547937  0.822852\n",
       "b  0.503197  0.368418\n",
       "c  0.402269  0.542773"
      ]
     },
     "execution_count": 42,
     "metadata": {},
     "output_type": "execute_result"
    }
   ],
   "source": [
    "population = pd.Series({'California':38332521,'Texas':26448193})\n",
    "area = pd.Series({'California':423967,'Texas':695662})\n",
    "states = pd.DataFrame({'population':population,'area':area})\n",
    "# dataframe有两个行标签和列标签对象\n",
    "print(states)\n",
    "# 行标签\n",
    "print(states.index)\n",
    "# 列标签\n",
    "print(states.columns)\n",
    "\n",
    "# 创建DataFrame的几种方式\n",
    "\n",
    "# 1 单个Series创建\n",
    "pd.DataFrame(population,columns=['population'])\n",
    "\n",
    "# 2 通过字典列表创建\n",
    "data = [{'a':i,'b':2*i} for i in range(3)]\n",
    "pd.DataFrame(data)\n",
    "\n",
    "# 3 通过Series对象字典创建，像之前那样\n",
    "states = pd.DataFrame({'population':population,'area':area})\n",
    "\n",
    "# 4 numpy二维数组创建\n",
    "pd.DataFrame(np.random.rand(3,2),columns=['foo','bar'],index=['a','b','c'])\n",
    "\n",
    "# 5 numpy 结构化数组创建"
   ]
  },
  {
   "cell_type": "markdown",
   "metadata": {},
   "source": [
    "### index对象\n",
    "pandas 的index 对象是一个很有趣的数据结构，不可变数组或有序集合"
   ]
  },
  {
   "cell_type": "code",
   "execution_count": 44,
   "metadata": {},
   "outputs": [
    {
     "name": "stdout",
     "output_type": "stream",
     "text": [
      "Int64Index([3, 5, 7], dtype='int64')\n",
      "Int64Index([1, 2, 3, 5, 7, 9, 11], dtype='int64')\n",
      "Int64Index([1, 2, 9, 11], dtype='int64')\n"
     ]
    }
   ],
   "source": [
    "indA = pd.Index([1,3,5,7,9])\n",
    "indB = pd.Index([2,3,5,7,11])\n",
    "\n",
    "print(indA & indB)\n",
    "print(indA | indB)\n",
    "print(indA ^ indB)"
   ]
  }
 ],
 "metadata": {
  "kernelspec": {
   "display_name": "Python 3",
   "language": "python",
   "name": "python3"
  },
  "language_info": {
   "codemirror_mode": {
    "name": "ipython",
    "version": 3
   },
   "file_extension": ".py",
   "mimetype": "text/x-python",
   "name": "python",
   "nbconvert_exporter": "python",
   "pygments_lexer": "ipython3",
   "version": "3.6.3"
  }
 },
 "nbformat": 4,
 "nbformat_minor": 2
}
