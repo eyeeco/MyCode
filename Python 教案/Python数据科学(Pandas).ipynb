{
 "cells": [
  {
   "cell_type": "markdown",
   "metadata": {},
   "source": [
    "## Pandas \n",
    "Pandas 是在numpy基础上 建立的新程序库，提供了一种更高效的DataFrame数据结构，其本质是一种带行列标签、支持相同数据类型和缺失值的多维数组\n",
    "\n",
    "本教程来源于《Python数据科学手册》第三章"
   ]
  },
  {
   "cell_type": "code",
   "execution_count": 28,
   "metadata": {
    "collapsed": true
   },
   "outputs": [],
   "source": [
    "# 安装好后可以检查一下版本号\n",
    "import pandas\n",
    "pandas.__version__\n",
    "\n",
    "import numpy as np\n",
    "import pandas as pd"
   ]
  },
  {
   "cell_type": "markdown",
   "metadata": {},
   "source": [
    "如果从底层视角观察Pandas对象，可以把他们看成是增强版的NumPy结构化数组，行列都不是简单的整数索引还可以带标签。首先介绍Pandas三个基本的数据结构：__Serise、DataFrame__和__Index__\n",
    "\n",
    "### 2 Series对象\n",
    "pandas的Serise对象是一个带索引数据的一维数组\n",
    "> Numpy隐式定义整数索引获取数值，Pandas的Serise对象显式定义索引与数值关联"
   ]
  },
  {
   "cell_type": "code",
   "execution_count": 16,
   "metadata": {},
   "outputs": [
    {
     "name": "stdout",
     "output_type": "stream",
     "text": [
      "0    2\n",
      "1    5\n",
      "2    9\n",
      "dtype: int64\n",
      "100    5\n",
      "200    5\n",
      "300    5\n",
      "dtype: int64\n",
      "2    a\n",
      "3    b\n",
      "dtype: object\n"
     ]
    }
   ],
   "source": [
    "data = pd.Series([0.25,0.5,0.75,1.0],index=['a','b','c','d'])\n",
    "\n",
    "# Serise 是通用的Numpy数组\n",
    "# Series 是特殊的字典\n",
    "population_dict = {'California':38332521,'Texas':26448193}\n",
    "population = pd.Series(population_dict)\n",
    "\n",
    "# 创建Series 对象\n",
    "# pd.Series(data,index=index)\n",
    "# 如果index为空，自动生成一个默认整数序列\n",
    "print(pd.Series([2,5,9]))\n",
    "# data也可以是一个标量，填充到每一个索引\n",
    "print(pd.Series(5,[100,200,300]))\n",
    "# data还可以是一个字典，字典键排序\n",
    "print(pd.Series({2:'a',3:'b'}))"
   ]
  },
  {
   "cell_type": "markdown",
   "metadata": {},
   "source": [
    "###  2 DataFrame对象\n",
    "\n",
    "如果将Series比作带灵活索引的一维数组，DataFrame可以看做一种既有灵活行索引，也有灵活列名的二维数组"
   ]
  },
  {
   "cell_type": "code",
   "execution_count": 42,
   "metadata": {},
   "outputs": [
    {
     "name": "stdout",
     "output_type": "stream",
     "text": [
      "              area  population\n",
      "California  423967    38332521\n",
      "Texas       695662    26448193\n",
      "Index(['California', 'Texas'], dtype='object')\n",
      "Index(['area', 'population'], dtype='object')\n"
     ]
    },
    {
     "data": {
      "text/html": [
       "<div>\n",
       "<style>\n",
       "    .dataframe thead tr:only-child th {\n",
       "        text-align: right;\n",
       "    }\n",
       "\n",
       "    .dataframe thead th {\n",
       "        text-align: left;\n",
       "    }\n",
       "\n",
       "    .dataframe tbody tr th {\n",
       "        vertical-align: top;\n",
       "    }\n",
       "</style>\n",
       "<table border=\"1\" class=\"dataframe\">\n",
       "  <thead>\n",
       "    <tr style=\"text-align: right;\">\n",
       "      <th></th>\n",
       "      <th>foo</th>\n",
       "      <th>bar</th>\n",
       "    </tr>\n",
       "  </thead>\n",
       "  <tbody>\n",
       "    <tr>\n",
       "      <th>a</th>\n",
       "      <td>0.547937</td>\n",
       "      <td>0.822852</td>\n",
       "    </tr>\n",
       "    <tr>\n",
       "      <th>b</th>\n",
       "      <td>0.503197</td>\n",
       "      <td>0.368418</td>\n",
       "    </tr>\n",
       "    <tr>\n",
       "      <th>c</th>\n",
       "      <td>0.402269</td>\n",
       "      <td>0.542773</td>\n",
       "    </tr>\n",
       "  </tbody>\n",
       "</table>\n",
       "</div>"
      ],
      "text/plain": [
       "        foo       bar\n",
       "a  0.547937  0.822852\n",
       "b  0.503197  0.368418\n",
       "c  0.402269  0.542773"
      ]
     },
     "execution_count": 42,
     "metadata": {},
     "output_type": "execute_result"
    }
   ],
   "source": [
    "population = pd.Series({'California':38332521,'Texas':26448193})\n",
    "area = pd.Series({'California':423967,'Texas':695662})\n",
    "states = pd.DataFrame({'population':population,'area':area})\n",
    "# dataframe有两个行标签和列标签对象\n",
    "print(states)\n",
    "# 行标签\n",
    "print(states.index)\n",
    "# 列标签\n",
    "print(states.columns)\n",
    "\n",
    "# 创建DataFrame的几种方式\n",
    "\n",
    "# 1 单个Series创建\n",
    "pd.DataFrame(population,columns=['population'])\n",
    "\n",
    "# 2 通过字典列表创建\n",
    "data = [{'a':i,'b':2*i} for i in range(3)]\n",
    "pd.DataFrame(data)\n",
    "\n",
    "# 3 通过Series对象字典创建，像之前那样\n",
    "states = pd.DataFrame({'population':population,'area':area})\n",
    "\n",
    "# 4 numpy二维数组创建\n",
    "pd.DataFrame(np.random.rand(3,2),columns=['foo','bar'],index=['a','b','c'])\n",
    "\n",
    "# 5 numpy 结构化数组创建"
   ]
  },
  {
   "cell_type": "markdown",
   "metadata": {},
   "source": [
    "### 2 index对象\n",
    "pandas 的index 对象是一个很有趣的数据结构，不可变数组或有序集合"
   ]
  },
  {
   "cell_type": "code",
   "execution_count": 44,
   "metadata": {},
   "outputs": [
    {
     "name": "stdout",
     "output_type": "stream",
     "text": [
      "Int64Index([3, 5, 7], dtype='int64')\n",
      "Int64Index([1, 2, 3, 5, 7, 9, 11], dtype='int64')\n",
      "Int64Index([1, 2, 9, 11], dtype='int64')\n"
     ]
    }
   ],
   "source": [
    "indA = pd.Index([1,3,5,7,9])\n",
    "indB = pd.Index([2,3,5,7,11])\n",
    "\n",
    "print(indA & indB)\n",
    "print(indA | indB)\n",
    "print(indA ^ indB)"
   ]
  },
  {
   "cell_type": "markdown",
   "metadata": {},
   "source": [
    "### 3 Series数据选择方法 "
   ]
  },
  {
   "cell_type": "code",
   "execution_count": 13,
   "metadata": {},
   "outputs": [
    {
     "name": "stdout",
     "output_type": "stream",
     "text": [
      "0.5\n",
      "True\n",
      "[('a', 0.25), ('b', 0.5), ('c', 0.75), ('d', 1.0)]\n",
      "a    0.25\n",
      "b    0.50\n",
      "c    0.75\n",
      "dtype: float64\n",
      "0.75\n",
      "b    0.5\n",
      "dtype: float64\n",
      "0.25\n",
      "0.5\n"
     ]
    }
   ],
   "source": [
    "import pandas as pd\n",
    "data = pd.Series([0.25,0.5,0.75,1.0],index=['a','b','c','d'])\n",
    "\n",
    "# 字典方法\n",
    "print(data['b'])\n",
    "print('a' in data)\n",
    "print(list(data.items()))\n",
    "\n",
    "# 数组方法 需要注意显示索引包含最后一个元素，隐式所以不包括\n",
    "# 显示索引\n",
    "print(data['a':'c'])\n",
    "# 隐式索引\n",
    "print(data[2])\n",
    "print(data[(data>0.3)&(data<0.7)])\n",
    "\n",
    "# 使用索引器（indexer）\n",
    "print(data.loc['a'])\n",
    "print(data.iloc[1])"
   ]
  },
  {
   "cell_type": "markdown",
   "metadata": {},
   "source": [
    "### 3 DataFrame数据选择方法"
   ]
  },
  {
   "cell_type": "code",
   "execution_count": 26,
   "metadata": {},
   "outputs": [
    {
     "name": "stdout",
     "output_type": "stream",
     "text": [
      "California    423967\n",
      "Florida       170312\n",
      "Illinois      149995\n",
      "New York      141297\n",
      "Texas         695662\n",
      "Name: area, dtype: int64\n",
      "            area  population     density\n",
      "Florida   170312    19552860  114.806121\n",
      "Illinois  149995    12882135   85.883763\n",
      "              area  population\n",
      "California  423967    38332521\n",
      "Florida     170312    19552860\n",
      "Illinois    149995    12882135\n"
     ]
    }
   ],
   "source": [
    "area = pd.Series({'California':423967,'Texas':695662,'New York':141297,'Florida':170312,'Illinois':149995})\n",
    "population = pd.Series({'California':38332521,'Texas':26448193,'New York':19651127,'Florida':19552860,'Illinois':12882135})\n",
    "states = pd.DataFrame({'population':population,'area':area})\n",
    "states['density'] = states['population'] / states['area']\n",
    "# 字典方法、数组方法\n",
    "print(states['area'])\n",
    "print(states[1:3])\n",
    "# 使用loc iloc函数\n",
    "print(states.iloc[:3,:2])"
   ]
  },
  {
   "cell_type": "markdown",
   "metadata": {},
   "source": [
    "## 4 保留索引和索引对齐"
   ]
  },
  {
   "cell_type": "code",
   "execution_count": 41,
   "metadata": {},
   "outputs": [
    {
     "name": "stdout",
     "output_type": "stream",
     "text": [
      "          A             B         C             D\n",
      "0 -1.000000  7.071068e-01 -0.707107  1.224647e-16\n",
      "1 -1.000000  7.071068e-01  1.000000 -1.000000e+00\n",
      "2 -0.707107  1.224647e-16  0.707107 -7.071068e-01\n",
      "3 -0.707107  1.000000e+00 -0.707107  1.224647e-16\n",
      "4  0.707107 -7.071068e-01 -0.707107  7.071068e-01\n",
      "      A     B     C   D\n",
      "0  13.0   2.0  15.0 NaN\n",
      "1  13.0  10.0   4.0 NaN\n",
      "2   NaN   NaN   NaN NaN\n",
      "3   NaN   NaN   NaN NaN\n",
      "4   NaN   NaN   NaN NaN\n",
      "           A          B          C          D\n",
      "0  13.000000   2.000000  15.000000   7.333333\n",
      "1  13.000000  10.000000   4.000000   6.333333\n",
      "2  10.333333   8.333333  12.333333  10.333333\n",
      "3   5.333333   7.333333  12.333333   5.333333\n",
      "4  13.333333  12.333333  13.333333   8.333333\n"
     ]
    },
    {
     "data": {
      "text/plain": [
       "0  A    4\n",
       "   B    0\n",
       "   C    9\n",
       "1  A    5\n",
       "   B    8\n",
       "   C    0\n",
       "dtype: int32"
      ]
     },
     "execution_count": 41,
     "metadata": {},
     "output_type": "execute_result"
    }
   ],
   "source": [
    "# 保留索引\n",
    "rng = np.random.RandomState(42)\n",
    "df = pd.DataFrame(rng.randint(0,10,(5,4)),columns=['A','B','C','D'])\n",
    "print(np.sin(df * np.pi / 4))\n",
    "\n",
    "# 索引对齐\n",
    "A = pd.DataFrame(rng.randint(0,10,(2,3)),columns=['A','B','C'])\n",
    "B = pd.DataFrame(rng.randint(0,10,(5,4)),columns=['A','B','C','D'])\n",
    "print(A+B)\n",
    "\n",
    "# 用A的均值去填充缺失值\n",
    "fill = A.stack().mean()\n",
    "print(A.add(B,fill_value=fill))\n",
    "\n",
    "A.stack()"
   ]
  }
 ],
 "metadata": {
  "kernelspec": {
   "display_name": "Python 3",
   "language": "python",
   "name": "python3"
  },
  "language_info": {
   "codemirror_mode": {
    "name": "ipython",
    "version": 3
   },
   "file_extension": ".py",
   "mimetype": "text/x-python",
   "name": "python",
   "nbconvert_exporter": "python",
   "pygments_lexer": "ipython3",
   "version": "3.6.3"
  }
 },
 "nbformat": 4,
 "nbformat_minor": 2
}
